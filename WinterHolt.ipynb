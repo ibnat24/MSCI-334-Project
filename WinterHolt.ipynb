{
 "cells": [
  {
   "cell_type": "code",
   "execution_count": 1,
   "metadata": {},
   "outputs": [
    {
     "ename": "ModuleNotFoundError",
     "evalue": "No module named 'statsmodels'",
     "output_type": "error",
     "traceback": [
      "\u001b[0;31m---------------------------------------------------------------------------\u001b[0m",
      "\u001b[0;31mModuleNotFoundError\u001b[0m                       Traceback (most recent call last)",
      "Cell \u001b[0;32mIn[1], line 3\u001b[0m\n\u001b[1;32m      1\u001b[0m \u001b[38;5;28;01mimport\u001b[39;00m \u001b[38;5;21;01mpandas\u001b[39;00m \u001b[38;5;28;01mas\u001b[39;00m \u001b[38;5;21;01mpd\u001b[39;00m\n\u001b[1;32m      2\u001b[0m \u001b[38;5;28;01mimport\u001b[39;00m \u001b[38;5;21;01mmatplotlib\u001b[39;00m\u001b[38;5;21;01m.\u001b[39;00m\u001b[38;5;21;01mpyplot\u001b[39;00m \u001b[38;5;28;01mas\u001b[39;00m \u001b[38;5;21;01mplt\u001b[39;00m\n\u001b[0;32m----> 3\u001b[0m \u001b[38;5;28;01mfrom\u001b[39;00m \u001b[38;5;21;01mstatsmodels\u001b[39;00m\u001b[38;5;21;01m.\u001b[39;00m\u001b[38;5;21;01mtsa\u001b[39;00m\u001b[38;5;21;01m.\u001b[39;00m\u001b[38;5;21;01mholtwinters\u001b[39;00m \u001b[38;5;28;01mimport\u001b[39;00m ExponentialSmoothing\n\u001b[1;32m      5\u001b[0m \u001b[38;5;66;03m# Load the grocery store data\u001b[39;00m\n\u001b[1;32m      6\u001b[0m grocery_data \u001b[38;5;241m=\u001b[39m pd\u001b[38;5;241m.\u001b[39mread_csv(\u001b[38;5;124m\"\u001b[39m\u001b[38;5;124mGROCERY STORE DATA FINAL 2024.csv\u001b[39m\u001b[38;5;124m\"\u001b[39m)\n",
      "\u001b[0;31mModuleNotFoundError\u001b[0m: No module named 'statsmodels'"
     ]
    }
   ],
   "source": [
    "import pandas as pd\n",
    "import matplotlib.pyplot as plt\n",
    "from statsmodels.tsa.holtwinters import ExponentialSmoothing\n",
    "\n",
    "# Load the grocery store data\n",
    "grocery_data = pd.read_csv(\"GROCERY STORE DATA FINAL 2024.csv\")\n",
    "\n",
    "# Assuming all data is for the year 2024\n",
    "grocery_data['Year'] = 2024\n",
    "\n",
    "# Combine 'Month' with 'Year'\n",
    "grocery_data['Month'] = pd.to_datetime(grocery_data['Month'] + ' ' + grocery_data['Year'].astype(str), format='%B %Y', errors='coerce')\n",
    "\n",
    "# Sort the data by 'Month'\n",
    "grocery_data.sort_values('Month', inplace=True)\n",
    "\n",
    "# Aggregate sales data by product and month\n",
    "monthly_sales_one_year = grocery_data.pivot_table(index='Month', columns='Product Number', values='Units Sold', aggfunc='sum').fillna(0)\n",
    "monthly_sales_one_year = monthly_sales_one_year.asfreq('MS')\n",
    "\n",
    "# Product codes from the image\n",
    "product_list = [\n",
    "    'AXFPZ', 'CRPQI', 'DKYVV', 'DOCFZ', 'GLOSZ', 'IRTIK', 'ITVPQ',\n",
    "    'JDHQC', 'JXAQR', 'LNERG', 'MNKUJ', 'PWNLL', 'QGVDQ', 'RABEK',\n",
    "    'RDFXG', 'VODQA', 'XEWAF', 'XWVFX', 'ZHQKE', 'ZTXRL'\n",
    "]\n",
    "\n",
    "# Create a 5x4 subplot layout\n",
    "fig, axs = plt.subplots(nrows=5, ncols=4, figsize=(20, 25), sharex=True, sharey=True)\n",
    "\n",
    "# Flatten the array of axes for easy iteration\n",
    "axs = axs.flatten()\n",
    "\n",
    "# Overlap period (number of periods before the end of actual sales data to start the forecast)\n",
    "overlap_period = 3\n",
    "\n",
    "# Loop through the products and their respective axes to plot each one\n",
    "for ax, product_name in zip(axs, product_list):\n",
    "    product_sales = monthly_sales_one_year[product_name]\n",
    "    \n",
    "    # Setting up and fitting the Holt-Winters model\n",
    "    model = ExponentialSmoothing(product_sales, trend=\"add\", seasonal=\"add\", seasonal_periods=4, use_boxcox=False)\n",
    "    hw_fit = model.fit()\n",
    "\n",
    "    # Forecasting the next 12 months with overlap\n",
    "    forecast = hw_fit.forecast(12 + overlap_period)\n",
    "    \n",
    "    # Adjusting the forecast index to start 'overlap_period' months before the last actual data point\n",
    "    forecast_index = pd.date_range(start=product_sales.index[-overlap_period], periods=12 + overlap_period, freq='MS')\n",
    "\n",
    "    # Plotting the actual vs forecasted sales\n",
    "    ax.plot(product_sales.index, product_sales, label='Actual Sales')\n",
    "    ax.plot(forecast_index, forecast, label='Forecasted Sales', linestyle='--')\n",
    "    ax.set_title(f'Sales Forecast for {product_name}')\n",
    "    ax.set_xlabel('Month')\n",
    "    ax.set_ylabel('Units Sold')\n",
    "    ax.legend()\n",
    "\n",
    "# Adjust the layout\n",
    "plt.tight_layout()\n",
    "plt.show()\n"
   ]
  },
  {
   "cell_type": "code",
   "execution_count": null,
   "metadata": {},
   "outputs": [],
   "source": []
  }
 ],
 "metadata": {
  "kernelspec": {
   "display_name": "Python 3 (ipykernel)",
   "language": "python",
   "name": "python3"
  },
  "language_info": {
   "codemirror_mode": {
    "name": "ipython",
    "version": 3
   },
   "file_extension": ".py",
   "mimetype": "text/x-python",
   "name": "python",
   "nbconvert_exporter": "python",
   "pygments_lexer": "ipython3",
   "version": "3.10.13"
  }
 },
 "nbformat": 4,
 "nbformat_minor": 2
}
